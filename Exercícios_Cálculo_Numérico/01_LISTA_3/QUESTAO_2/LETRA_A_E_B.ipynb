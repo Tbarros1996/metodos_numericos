{
  "cells": [
    {
      "cell_type": "code",
      "execution_count": 19,
      "metadata": {
        "id": "kcbsNB27snMd"
      },
      "outputs": [],
      "source": [
        "import numpy as np\n",
        "import matplotlib.pyplot as plt\n",
        "import cmath as cmt\n",
        "import math as mt"
      ]
    },
    {
      "cell_type": "code",
      "execution_count": 17,
      "metadata": {
        "id": "RhPCPrMns1cM"
      },
      "outputs": [],
      "source": [
        "#Valores de X\n",
        "x = np.linspace(-10,10)\n",
        "f_x = np.array((-0.5)*(x**2)+2.5*x+4.5)"
      ]
    },
    {
      "cell_type": "code",
      "execution_count": null,
      "metadata": {
        "id": "YqiUx8LbtPNT"
      },
      "outputs": [],
      "source": [
        "#Plotagem do Gráfico"
      ]
    },
    {
      "cell_type": "code",
      "execution_count": 18,
      "metadata": {
        "colab": {
          "base_uri": "https://localhost:8080/",
          "height": 279
        },
        "id": "ovWy4kmvtS5r",
        "outputId": "4d8921ba-61d7-41c7-c849-0ae8dd648605"
      },
      "outputs": [
        {
          "data": {
            "image/png": "[encoded data removed]",
            "text/plain": [
              "<Figure size 432x288 with 1 Axes>"
            ]
          },
          "metadata": {
            "needs_background": "light"
          },
          "output_type": "display_data"
        }
      ],
      "source": [
        "plt.plot(x,f_x)\n",
        "plt.xlabel('X')\n",
        "plt.ylabel('Y')\n",
        "plt.show()"
      ]
    },
    {
      "cell_type": "code",
      "execution_count": null,
      "metadata": {
        "id": "C9FISZXlu4GK"
      },
      "outputs": [],
      "source": [
        "#Pelo Gráfico uma ras raizes ficam a aproximadamento y = -2,5"
      ]
    },
    {
      "cell_type": "code",
      "execution_count": null,
      "metadata": {
        "id": "TZunRieAuuGy"
      },
      "outputs": [],
      "source": [
        "#Letra B - Usando a Fórmula do Segundo Grau"
      ]
    },
    {
      "cell_type": "code",
      "execution_count": 22,
      "metadata": {
        "colab": {
          "base_uri": "https://localhost:8080/"
        },
        "id": "1_2-ZiaRu1Sd",
        "outputId": "1877abb9-286c-4021-b80a-e31a73b0ee2f"
      },
      "outputs": [
        {
          "name": "stdout",
          "output_type": "stream",
          "text": [
            "Entre Com o Valor da Primeira Constante-0.5\n",
            "Entre Com o Valor da Segunda Constante2.5\n",
            "Entre Com o Valor da Terceira Constante4.5\n"
          ]
        }
      ],
      "source": [
        "a = float(input(\"Entre Com o Valor da Primeira Constante\"))\n",
        "b = float(input(\"Entre Com o Valor da Segunda Constante\"))\n",
        "c = float(input(\"Entre Com o Valor da Terceira Constante\"))"
      ]
    },
    {
      "cell_type": "code",
      "execution_count": null,
      "metadata": {
        "id": "F0kZWa_YvQ1y"
      },
      "outputs": [],
      "source": [
        "#Cálculo da Discriminante"
      ]
    },
    {
      "cell_type": "code",
      "execution_count": 23,
      "metadata": {
        "id": "iIqqxmCKvgGg"
      },
      "outputs": [],
      "source": [
        "delta = b**2 - 4*a*c"
      ]
    },
    {
      "cell_type": "code",
      "execution_count": null,
      "metadata": {
        "id": "dYe92Vr_vj50"
      },
      "outputs": [],
      "source": [
        "# Condicionais"
      ]
    },
    {
      "cell_type": "code",
      "execution_count": 24,
      "metadata": {
        "colab": {
          "base_uri": "https://localhost:8080/"
        },
        "id": "5Nj6kbWHvl7j",
        "outputId": "96304579-0e1d-4927-f987-3ff5dc6a8c73"
      },
      "outputs": [
        {
          "name": "stdout",
          "output_type": "stream",
          "text": [
            "Função com Raizes Reais Diferentes\n"
          ]
        }
      ],
      "source": [
        "if delta >0:\n",
        "  print(\"Função com Raizes Reais Diferentes\")\n",
        "elif delta == 0:\n",
        "  print(\"Função com Raizes Reais Iguais\")\n",
        "else:\n",
        "  print(\"Função com Raizes Complexas\")\n",
        "\n"
      ]
    },
    {
      "cell_type": "code",
      "execution_count": 25,
      "metadata": {
        "id": "uqLGRzkQwT2E"
      },
      "outputs": [],
      "source": [
        "#Resolução da Equação do Segundo Grau"
      ]
    },
    {
      "cell_type": "code",
      "execution_count": 26,
      "metadata": {
        "colab": {
          "base_uri": "https://localhost:8080/"
        },
        "id": "V2kLKywmwWz6",
        "outputId": "3de4f73b-e0e3-4678-f63b-9155f393a589"
      },
      "outputs": [
        {
          "name": "stdout",
          "output_type": "stream",
          "text": [
            "As Raizes da Função São -1.405124837953327 e 6.405124837953327 \n"
          ]
        }
      ],
      "source": [
        "if delta>0:\n",
        "  y_1 = ((-b) + mt.sqrt(delta) )/(2*a)\n",
        "  y_2 = ((-b) - mt.sqrt(delta) )/(2*a)\n",
        "  print(f\"As Raizes da Função São {y_1} e {y_2} \")\n",
        "elif delta ==0:\n",
        "  y=(-b)/(2*a)\n",
        "  print(\"A raiz da equação é +/- {y}\")\n",
        "else:\n",
        "  y_1 = ((-b) + cmt.sqrt(delta) )/(2*a)\n",
        "  y_2 = ((-b) - cmt.sqrt(delta) )/(2*a)\n",
        "  print(f\"As Raizes da Função São {y_1} e {y_2} \")  \n",
        "\n"
      ]
    }
  ],
  "metadata": {
    "colab": {
      "name": "Untitled0.ipynb",
      "provenance": []
    },
    "kernelspec": {
      "display_name": "Python 3",
      "name": "python3"
    },
    "language_info": {
      "name": "python"
    }
  },
  "nbformat": 4,
  "nbformat_minor": 0
}
