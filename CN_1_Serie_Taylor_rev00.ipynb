{
  "cells": [
    {
      "cell_type": "markdown",
      "metadata": {},
      "source": [
        "# Computação Científica Voltada para a Engenharia - Problemas Matemáticos Usando Python\n",
        "\n",
        "## Tópico 1 - Série de Taylor"
      ]
    },
    {
      "cell_type": "markdown",
      "metadata": {},
      "source": [
        "Por Thiago Barros"
      ]
    },
    {
      "cell_type": "markdown",
      "metadata": {},
      "source": [
        "Em matemática, existem diversos funções que não possuem solução real calculável. Equações como as de Navier Stokes que sevem para determinar propriedades do fenômeno da turbulência não possuem solução real ainda e para encontrar resultados utilizando essas equações é preciso utilizar ferramentas numéricas. Vamos supor que não sabemos calcular o valor de uma função para um polinômio simples e desejamos determinar o valor dessa função usando um valor aproximado."
      ]
    },
    {
      "cell_type": "markdown",
      "metadata": {},
      "source": [
        "n está associado com a ordem da derivada que se tem do polinômio."
      ]
    },
    {
      "cell_type": "markdown",
      "metadata": {},
      "source": [
        "$$\n",
        "\\begin{aligned}\n",
        "f(x) = \\cos(x)\n",
        "\\end{aligned}\n",
        "$$"
      ]
    },
    {
      "cell_type": "markdown",
      "metadata": {},
      "source": [
        "Vamos supor que queremos calcular o valor de f(x) o y para: $$\\frac{\\pi}{3}$$"
      ]
    },
    {
      "cell_type": "markdown",
      "metadata": {},
      "source": [
        "Um método que podemos utilizar é aproximando o valor da função utilizando a Série de Taylor. A Série de Taylor é uma série numérica que é um resultado do trabalho do Brook Taylor e do d'Alembert que busca aproximar um valor de um polinômio por meio da segunte série numérica:"
      ]
    },
    {
      "cell_type": "markdown",
      "metadata": {},
      "source": [
        "$$\n",
        "\\begin{aligned}\n",
        "f(x) = f(x_{0}) + \\frac{f'(x_{0})}{1!} \\times (x - x_{0})^1 + \\frac{f''(x_{0})}{2!} \\times (x - x_{0})^2 + \\dots + \\frac{f^{(n)}(x_{0})}{n!} \\times (x - x_{0})^n\n",
        "\\end{aligned}\n",
        "$$"
      ]
    },
    {
      "cell_type": "markdown",
      "metadata": {},
      "source": [
        "O que fazemos é uma soma infinita usando os valores das ordens das derivadas. Cada ordem da derivada é o valor $$n$$"
      ]
    },
    {
      "cell_type": "markdown",
      "metadata": {},
      "source": [
        "A diferença entre o x que é o valor para qual calculamos e o x0 que é o ponto de partida ou base que usamos podemos chamar de 'h'"
      ]
    },
    {
      "cell_type": "markdown",
      "metadata": {},
      "source": [
        "**Exemplo_1** - Calculando o valor da função f(x) = cos (x) usando a série de taylor da ordem 0 até a ordem 4. Tenha como ponto base o valor x0 = pi/4"
      ]
    },
    {
      "cell_type": "markdown",
      "metadata": {},
      "source": [
        "Resolução:\n",
        "\n",
        "Podemos calcular o valor verdadeiro da função e o valor do chute e determinar o valore de erro aproximado."
      ]
    },
    {
      "cell_type": "code",
      "execution_count": null,
      "metadata": {
        "trusted": true
      },
      "outputs": [],
      "source": [
        "import math as mt\n",
        "import matplotlib.pyplot as plt\n",
        "import numpy as np\n",
        "from sympy import *"
      ]
    },
    {
      "cell_type": "code",
      "execution_count": null,
      "metadata": {
        "trusted": true
      },
      "outputs": [],
      "source": [
        "x_i_p_0 = mt.pi/3 # O valor verdadeiro\n",
        "x_i = mt.pi/4 # O chute inicial\n",
        "print(round(mt.cos(x_i_p_0),2),round(mt.cos(x_i),2))"
      ]
    },
    {
      "cell_type": "code",
      "execution_count": null,
      "metadata": {
        "trusted": true
      },
      "outputs": [],
      "source": [
        "#Calculando o erro temos que:\n",
        "\n",
        "epslon = ((mt.cos(x_i) - mt.cos(x_i_p_0))/mt.cos(x_i)) * 100 \n",
        "print(f'{round(epslon,3)}%')\n"
      ]
    },
    {
      "cell_type": "markdown",
      "metadata": {},
      "source": [
        "Usando a série de taylor, podemos aproximar o valor real da função usando uma sequencia numérica.\n"
      ]
    },
    {
      "cell_type": "markdown",
      "metadata": {},
      "source": [
        "$$\n",
        "\\begin{aligned}\n",
        "cos(\\frac{\\pi}{3}) = f(\\frac{\\pi}{4}) + \\frac{f'(\\frac{\\pi}{4})}{1!} \\times (\\frac{\\pi}{3}- \\frac{\\pi}{4})^1 + \\frac{f''\\frac{\\pi}{4})}{2!} \\times (\\frac{\\pi}{3}- \\frac{\\pi}{4})^2 + \\dots + \\frac{f^{(n)}(\\frac{\\pi}{4})}{n!} \\times (\\frac{\\pi}{3}- \\frac{\\pi}{4})^n\n",
        "\\end{aligned}\n",
        "$$"
      ]
    },
    {
      "cell_type": "markdown",
      "metadata": {},
      "source": [
        "Realizando manualmente teremos um erro numérico aproximadamente igual a zero após a quarta ordem. Porém, realizar esse cálculo manualmente pode ser bastante tedioso e muito vagaroso. Por isso, a ferramenta mais utilizada quando se trabalha com método numérico é a programação uma vez que é possível realizar várias interações em questão de segundos."
      ]
    },
    {
      "cell_type": "markdown",
      "metadata": {},
      "source": [
        "Utilizando Python, vamos definir as variáveis para calcular o valor de um polinômio qualquer utilizando Taylor."
      ]
    },
    {
      "cell_type": "markdown",
      "metadata": {},
      "source": [
        "Precisamos criar um método para entrar com a função e determinar as derivadas. Uma das maneiras de se fazer isso é utilizando a biblioteca de computação simbolica Sympy. Precisamos trabalhar com as operações simbolicamente e retornar os valores das equações de manineira exata. Exemplo: Definimos o x como um simbolo para que o sympy entenda a expressão numérica e retorne o resultado\n",
        "da derivação."
      ]
    },
    {
      "cell_type": "code",
      "execution_count": null,
      "metadata": {
        "trusted": true
      },
      "outputs": [],
      "source": [
        "x = symbols('x')"
      ]
    },
    {
      "cell_type": "code",
      "execution_count": null,
      "metadata": {
        "trusted": true
      },
      "outputs": [],
      "source": [
        "f = x + 2\n",
        "\n",
        "df = diff(f)\n",
        "\"\"\"\n",
        "dF para x  = 2\n",
        "\"\"\"\n",
        "yn2 = df.evalf(subs={x:2})\n",
        "print(round(float(yn2),2))\n",
        "\n"
      ]
    },
    {
      "attachments": {},
      "cell_type": "markdown",
      "metadata": {},
      "source": [
        "\n",
        "O exemplo acima mostra como usar o Sympy para calcular o valor da derivada de uma função para um valor x.\n",
        "\n",
        "A idéia é repetir esse processo e retornar o valor de cada derivada em cada inteção da série de taylor\n"
      ]
    },
    {
      "cell_type": "code",
      "execution_count": null,
      "metadata": {
        "trusted": true
      },
      "outputs": [],
      "source": [
        "funcao = 'cos(x)'\n",
        "ponto = pi/3\n",
        "ponto_2 = mt.pi/3\n",
        "partida = pi/4\n",
        "partida_2 = mt.pi/4\n",
        "resultados = [funcao]\n",
        "numerico=[]\n",
        "dados = []\n",
        "i,j,k = 0,0,0\n",
        "a = len(resultados)\n",
        "\n",
        "\"\"\"\n",
        "A idéia no primeiro for é criar um arranjo que contenha as derivadas de ordem 0 a um n qualquer e armazenar essas expressões\n",
        "em uma lista.\n",
        "\"\"\"\n",
        "for i in range(0,6):\n",
        "    derivada = diff(resultados[i])\n",
        "    resultados.append(derivada)\n",
        "    \n",
        "\"\"\"\n",
        "Com o auxílio do sympy, calculamos o valor da expressão de cada derivada de ordem n para o valor do ponto de partida e \n",
        "armazenamos em outro arranho que contém o mesmo dimensional dos n termos da série de taylor que usamos nas derivadas\n",
        "\n",
        "\"\"\"\n",
        "    \n",
        "for j in range(0,len(resultados)):\n",
        "    funcao_2 = sympify(resultados[j])\n",
        "    y = funcao_2.evalf(subs={x:partida})\n",
        "    numerico.append(round(float(y),8))\n",
        "    \n",
        "\"\"\"\n",
        "Por fim, calcularmos o valor de cada termo com a diferença dos valores x e x0 e os fatoriais e armazenamos para \n",
        "calcular a soma de todos os valores e determinarmos o valor a expressão de maneira aproximada usando a\n",
        "série de Taylor\n",
        "\n",
        "\"\"\"\n",
        "    \n",
        "for k in range(0,len(numerico)):\n",
        "    valor = (numerico[k]*((ponto_2-partida_2)**k))/mt.factorial(k)\n",
        "    dados.append(valor)\n",
        "\n",
        "\n",
        "\n",
        "print(f'Logo, o valor da função para {ponto} é de aproximadamente, {round(sum(dados),8)}, usando {partida} como marco zero')"
      ]
    },
    {
      "cell_type": "markdown",
      "metadata": {},
      "source": [
        "Vamos agora tentar gerar uma curva que mostre o erro numérico em função dos resultados obtidos nos 5 primeiros termos da\n",
        "série de taylor."
      ]
    },
    {
      "cell_type": "code",
      "execution_count": null,
      "metadata": {
        "trusted": true
      },
      "outputs": [],
      "source": [
        "\"\"\"\n",
        "Usando Firbonacci para somar os termos atuais com os tremos anteriores termos um arranjo com os valores de f(x) para\n",
        "cada n termos da série de taylor \n",
        "\n",
        "\"\"\"\n",
        "import pandas as pd\n",
        "termos_soma = []\n",
        "epslon = []\n",
        "termos = np.arange(1,len(dados)+1)\n",
        "\n",
        "for index in range(0,len(dados)):\n",
        "    if index == 0:\n",
        "        termo_inicial = dados[index]\n",
        "        termos_soma.append(termo_inicial)\n",
        "    if index >0:\n",
        "        termo_seginte = dados[index] + termos_soma[index-1]\n",
        "        termos_soma.append(termo_seginte)\n",
        "        \n",
        "for index in range(0,len(dados)):\n",
        "    e = ((mt.cos(ponto_2) - termos_soma[index])/mt.cos(ponto_2))*-100\n",
        "    epslon.append(e)\n",
        "\n",
        "df = pd.DataFrame({'Termos':termos,'F(X)':termos_soma,'Verdadeiro':mt.cos(x_i_p_0),'Erro':epslon})"
      ]
    },
    {
      "cell_type": "code",
      "execution_count": null,
      "metadata": {
        "trusted": true
      },
      "outputs": [],
      "source": [
        "df"
      ]
    },
    {
      "cell_type": "code",
      "execution_count": 153,
      "metadata": {
        "trusted": true
      },
      "outputs": [
        {
          "data": {
            "image/png": "[encoded data removed]",
            "text/plain": [
              "<Figure size 640x480 with 2 Axes>"
            ]
          },
          "metadata": {},
          "output_type": "display_data"
        }
      ],
      "source": [
        "plt.plot(df['Termos'],df['Erro'], 'go-')\n",
        "plt.xlabel('Termos')\n",
        "plt.ylabel('Erro relativo Percentual %')\n",
        "ay2 = plt.twinx()\n",
        "ay2.plot(df['F(X)'],'ro--', label='Valor de F(X)')\n",
        "plt.legend()\n",
        "plt.show()"
      ]
    },
    {
      "cell_type": "markdown",
      "metadata": {},
      "source": [
        "O gráfico em verde representa o valor do erro relativo em função da quantidade de termos da serie de taylor enquanto o gráfico\n",
        "em vermelho representa o valor da aproximação em função do número de termos. Sendo assim, concluimos o quão útil é a série de Taylor para determinação de valores de funções polinomiais"
      ]
    }
  ],
  "metadata": {
    "kernelspec": {
      "display_name": "Python (Pyodide)",
      "language": "python",
      "name": "python"
    },
    "language_info": {
      "codemirror_mode": {
        "name": "python",
        "version": 3
      },
      "file_extension": ".py",
      "mimetype": "text/x-python",
      "name": "python",
      "nbconvert_exporter": "python",
      "pygments_lexer": "ipython3",
      "version": "3.8"
    }
  },
  "nbformat": 4,
  "nbformat_minor": 4
}
