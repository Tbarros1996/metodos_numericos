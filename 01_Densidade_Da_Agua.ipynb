{
  "metadata": {
    "language_info": {
      "codemirror_mode": {
        "name": "python",
        "version": 3
      },
      "file_extension": ".py",
      "mimetype": "text/x-python",
      "name": "python",
      "nbconvert_exporter": "python",
      "pygments_lexer": "ipython3",
      "version": "3.8"
    },
    "kernelspec": {
      "name": "python",
      "display_name": "Python (Pyodide)",
      "language": "python"
    },
    "colab": {
      "provenance": []
    }
  },
  "nbformat_minor": 0,
  "nbformat": 4,
  "cells": [
    {
      "cell_type": "code",
      "source": [
        "\"\"\"\n",
        "Python Aplicado a Engenharia Mecânica\n",
        "Programa Desenvolvido por Thiago Barros\n",
        "Problema 01\n",
        "Problema da Densidade da Água doce\n",
        "\n",
        "\"\"\""
      ],
      "metadata": {
        "id": "v3HHZaISV2CF"
      },
      "execution_count": null,
      "outputs": []
    },
    {
      "cell_type": "markdown",
      "source": [
        "A densidade da água doce pode ser calculada como uma função da temperatura com a seguinte\n",
        "equação cúbica:"
      ],
      "metadata": {
        "id": "zDh46VpeV2CI"
      }
    },
    {
      "cell_type": "markdown",
      "source": [
        "$$\n",
        "\\begin{aligned}\n",
        "\\rho = 5,5278 \\times 10^{-8} \\times T^{3}_{c} - 8,5016 \\times 10^{-6} \\times T^{2}_{c} + 6,5622 \\times 10^{-5} \\times T_{c} + 0,99987\n",
        "\\end{aligned}\n",
        "$$\n",
        "\n",
        "Para:\n",
        "\n",
        "$$\n",
        "\\begin{aligned}\n",
        "\\rho = \\frac{g}{cm^3}\n",
        "\\end{aligned}\n",
        "$$\n",
        "\n",
        "$$\n",
        "\\begin{aligned}\n",
        "T_{c} = °C \n",
        "\\end{aligned}\n",
        "$$\n"
      ],
      "metadata": {
        "id": "E2ikpZajV2CJ"
      }
    },
    {
      "cell_type": "markdown",
      "source": [
        "Retornar a densidade da água variando a temperatura de 32 °F a 93,2 °F, incrementando entre 3,6 °F"
      ],
      "metadata": {
        "id": "XgWvb6cbV2CK"
      }
    },
    {
      "cell_type": "markdown",
      "source": [
        "Parte 1 : Importando a bibliotecas necessárias:"
      ],
      "metadata": {
        "id": "qMp2lF8iV2CM"
      }
    },
    {
      "cell_type": "code",
      "source": [
        "import numpy as np\n",
        "import matplotlib.pyplot as plt"
      ],
      "metadata": {
        "trusted": true,
        "id": "uG2DrK3JV2CM"
      },
      "execution_count": null,
      "outputs": []
    },
    {
      "cell_type": "markdown",
      "source": [
        "Parte 2: Gerando os dados de Temperatura"
      ],
      "metadata": {
        "id": "UmnkZaltV2CM"
      }
    },
    {
      "cell_type": "markdown",
      "source": [
        "Vetor temperatura\n",
        "\n",
        "Considerando o problema do núcleo python não construir vetor usando espaçamento e range float, vamos usar o \n",
        "a função linspace do numpy "
      ],
      "metadata": {
        "id": "-E9sbtjsV2CN"
      }
    },
    {
      "cell_type": "code",
      "source": [
        "t_f_n = np.array(np.arange(32.1,93.2,3.6))"
      ],
      "metadata": {
        "trusted": true,
        "id": "P0wAm_O5V2CN"
      },
      "execution_count": null,
      "outputs": []
    },
    {
      "cell_type": "code",
      "source": [
        "print(t_f_n)"
      ],
      "metadata": {
        "trusted": true,
        "id": "j9ZKxiqDV2CP",
        "outputId": "d1e80b02-34a4-4f17-ae69-4b44a00dcf36"
      },
      "execution_count": null,
      "outputs": [
        {
          "name": "stdout",
          "text": "[32.1 35.7 39.3 42.9 46.5 50.1 53.7 57.3 60.9 64.5 68.1 71.7 75.3 78.9\n 82.5 86.1 89.7]\n",
          "output_type": "stream"
        }
      ]
    },
    {
      "cell_type": "code",
      "source": [
        "#Criando o vetor termperatura em graus celcius:\n",
        "\n",
        "t_c_n = np.round((t_f_n - 32)/1.8,4)"
      ],
      "metadata": {
        "trusted": true,
        "id": "qvG9pG1YV2CQ"
      },
      "execution_count": null,
      "outputs": []
    },
    {
      "cell_type": "code",
      "source": [
        "print(t_c_n)"
      ],
      "metadata": {
        "trusted": true,
        "id": "kJdZk_yMV2CR",
        "outputId": "b745ffa4-3c80-4a59-99ef-ab26787cc7b0"
      },
      "execution_count": null,
      "outputs": [
        {
          "name": "stdout",
          "text": "[ 0.0556  2.0556  4.0556  6.0556  8.0556 10.0556 12.0556 14.0556 16.0556\n 18.0556 20.0556 22.0556 24.0556 26.0556 28.0556 30.0556 32.0556]\n",
          "output_type": "stream"
        }
      ]
    },
    {
      "cell_type": "markdown",
      "source": [
        "Parte 4: Calculando a Densidade"
      ],
      "metadata": {
        "id": "SMwtR1APV2CR"
      }
    },
    {
      "cell_type": "code",
      "source": [
        "rho = np.round((5.5289*(10**(-8)))*(t_c_n**3) - (8.5016*(10**(-6)))*(t_c_n**2) + (6.5622*(10**(-5)))*(t_c_n) + 0.99987,4)"
      ],
      "metadata": {
        "trusted": true,
        "id": "84vslTaSV2CS"
      },
      "execution_count": null,
      "outputs": []
    },
    {
      "cell_type": "code",
      "source": [
        "print(rho)"
      ],
      "metadata": {
        "trusted": true,
        "id": "KJYcyoRIV2CS",
        "outputId": "c2b98d04-e5b9-4b6e-802e-4db3e523d7c5"
      },
      "execution_count": null,
      "outputs": [
        {
          "name": "stdout",
          "text": "[0.9999 1.     1.     1.     0.9999 0.9997 0.9995 0.9993 0.999  0.9986\n 0.9982 0.9978 0.9973 0.9968 0.9962 0.9957 0.9951]\n",
          "output_type": "stream"
        }
      ]
    },
    {
      "cell_type": "markdown",
      "source": [
        "Parte Final - Criando um Gráfico rho x TC"
      ],
      "metadata": {
        "id": "dOrEz6oDV2CT"
      }
    },
    {
      "cell_type": "code",
      "source": [
        "plt.plot(rho,t_c_n, \"bo-\" )\n",
        "plt.xlabel(\"Densidade em [g/m3]\",color = \"red\")\n",
        "plt.ylabel(\"Temperatura em  °C\",color = \"blue\")\n",
        "plt.show()"
      ],
      "metadata": {
        "trusted": true,
        "id": "ibmDa6LFV2CU",
        "outputId": "09c80ae2-2023-4093-b0f0-aeb6310594ec"
      },
      "execution_count": null,
      "outputs": [
        {
          "output_type": "display_data",
          "data": {
            "text/plain": "<Figure size 640x480 with 1 Axes>",
            "image/png": "[encoded data removed]"
          },
          "metadata": {}
        }
      ]
    }
  ]
}